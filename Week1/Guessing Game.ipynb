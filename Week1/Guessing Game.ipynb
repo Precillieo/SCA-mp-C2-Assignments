{
 "cells": [
  {
   "cell_type": "markdown",
   "metadata": {},
   "source": [
    "# THE GUESSING GAME"
   ]
  },
  {
   "cell_type": "code",
   "execution_count": 1,
   "metadata": {},
   "outputs": [],
   "source": [
    "import random"
   ]
  },
  {
   "cell_type": "code",
   "execution_count": 2,
   "metadata": {},
   "outputs": [],
   "source": [
    "# generate a random number\n",
    "random_number= random.randint(1,20)"
   ]
  },
  {
   "cell_type": "code",
   "execution_count": null,
   "metadata": {},
   "outputs": [],
   "source": [
    "while True:\n",
    "    guess= input(\"pick a number from 1 to 20: \")\n",
    "    guess= int(guess)\n",
    "#handle user's guesses. if they're correct tell them they won.\n",
    "#otherwise,tell them if they are too high or too low.\n",
    "    if guess < random_number:\n",
    "        print(\"That is just too low!\")\n",
    "    elif guess > random_number:\n",
    "        print (\"Oh. Too high!\")\n",
    "    else:\n",
    "        print(\"Yay. You Won!\")\n",
    "#let player play again if they want to        \n",
    "        play_again= input (\"Do you want to play again? (yes/no)\")\n",
    "        if play_again== \"yes\":\n",
    "            print (\"Now pick another number\")\n",
    "            random_number= random.randint(1,20)\n",
    "            guess= None\n",
    "        else:\n",
    "            print(\"Thank you for your playing this game\")\n",
    "            break"
   ]
  },
  {
   "cell_type": "code",
   "execution_count": null,
   "metadata": {},
   "outputs": [],
   "source": []
  }
 ],
 "metadata": {
  "kernelspec": {
   "display_name": "Python 3",
   "language": "python",
   "name": "python3"
  },
  "language_info": {
   "codemirror_mode": {
    "name": "ipython",
    "version": 3
   },
   "file_extension": ".py",
   "mimetype": "text/x-python",
   "name": "python",
   "nbconvert_exporter": "python",
   "pygments_lexer": "ipython3",
   "version": "3.7.2"
  }
 },
 "nbformat": 4,
 "nbformat_minor": 4
}
