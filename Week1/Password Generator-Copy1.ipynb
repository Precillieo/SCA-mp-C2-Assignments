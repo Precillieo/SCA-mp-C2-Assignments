{
 "cells": [
  {
   "cell_type": "markdown",
   "metadata": {},
   "source": [
    " # PASSWORD GENERATOR"
   ]
  },
  {
   "cell_type": "code",
   "execution_count": null,
   "metadata": {},
   "outputs": [],
   "source": [
    "import string\n",
    "import random"
   ]
  },
  {
   "cell_type": "code",
   "execution_count": 2,
   "metadata": {},
   "outputs": [],
   "source": [
    "def password_generator():\n",
    "    #generate a password with length between 6 and 20\n",
    "    length = random.randint(6,20)\n",
    "    password= []\n",
    "    for i in range(length):\n",
    "        s= [random.choice(string.punctuation)]\n",
    "        u= [random.choice(string.ascii_uppercase)]\n",
    "        l= [random.choice(string.ascii_lowercase)]\n",
    "        n= [random.choice(string.digits)]\n",
    "        password_bank= s + u + l + n \n",
    "    \n",
    "        password.append(random.choice(password_bank))\n",
    "    password= \"\".join(password)\n",
    "    print(\"Here is your password:\", password)"
   ]
  },
  {
   "cell_type": "code",
   "execution_count": 3,
   "metadata": {},
   "outputs": [
    {
     "name": "stdout",
     "output_type": "stream",
     "text": [
      "Here is your password: 9gqK2-dvQkLLE%z08~\n"
     ]
    }
   ],
   "source": [
    "password_generator()"
   ]
  },
  {
   "cell_type": "code",
   "execution_count": 4,
   "metadata": {},
   "outputs": [
    {
     "name": "stdout",
     "output_type": "stream",
     "text": [
      "Here is your password: T~a9il8;\n"
     ]
    }
   ],
   "source": [
    "password_generator()"
   ]
  },
  {
   "cell_type": "code",
   "execution_count": 5,
   "metadata": {},
   "outputs": [
    {
     "name": "stdout",
     "output_type": "stream",
     "text": [
      "Here is your password: tD7v4r0O=@tM1\n"
     ]
    }
   ],
   "source": [
    "password_generator()"
   ]
  }
 ],
 "metadata": {
  "kernelspec": {
   "display_name": "Python 3",
   "language": "python",
   "name": "python3"
  },
  "language_info": {
   "codemirror_mode": {
    "name": "ipython",
    "version": 3
   },
   "file_extension": ".py",
   "mimetype": "text/x-python",
   "name": "python",
   "nbconvert_exporter": "python",
   "pygments_lexer": "ipython3",
   "version": "3.7.2"
  }
 },
 "nbformat": 4,
 "nbformat_minor": 4
}
