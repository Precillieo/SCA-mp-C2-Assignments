{
 "cells": [
  {
   "cell_type": "markdown",
   "metadata": {},
   "source": [
    "## COVID-19 DATA VISUALIZATION"
   ]
  },
  {
   "cell_type": "code",
   "execution_count": 1,
   "metadata": {},
   "outputs": [],
   "source": [
    "import pandas as pd\n",
    "import numpy as np\n",
    "import seaborn as sns\n",
    "import matplotlib.pyplot as plt\n",
    "%matplotlib inline"
   ]
  },
  {
   "cell_type": "code",
   "execution_count": 2,
   "metadata": {},
   "outputs": [
    {
     "data": {
      "text/html": [
       "<div>\n",
       "<style scoped>\n",
       "    .dataframe tbody tr th:only-of-type {\n",
       "        vertical-align: middle;\n",
       "    }\n",
       "\n",
       "    .dataframe tbody tr th {\n",
       "        vertical-align: top;\n",
       "    }\n",
       "\n",
       "    .dataframe thead th {\n",
       "        text-align: right;\n",
       "    }\n",
       "</style>\n",
       "<table border=\"1\" class=\"dataframe\">\n",
       "  <thead>\n",
       "    <tr style=\"text-align: right;\">\n",
       "      <th></th>\n",
       "      <th>Country</th>\n",
       "      <th>Total_Cases</th>\n",
       "      <th>New_Cases</th>\n",
       "      <th>Total_Deaths</th>\n",
       "      <th>New_Deaths</th>\n",
       "      <th>Total_Recovered</th>\n",
       "      <th>Active_Cases</th>\n",
       "      <th>Serious/Critical</th>\n",
       "      <th>Tot_Cases</th>\n",
       "      <th>Deaths</th>\n",
       "      <th>Total_Tests</th>\n",
       "      <th>Tests</th>\n",
       "      <th>Continents</th>\n",
       "    </tr>\n",
       "  </thead>\n",
       "  <tbody>\n",
       "    <tr>\n",
       "      <td>0</td>\n",
       "      <td>World</td>\n",
       "      <td>9067824</td>\n",
       "      <td>28,887</td>\n",
       "      <td>471040</td>\n",
       "      <td>1,436</td>\n",
       "      <td>4850718.0</td>\n",
       "      <td>3746066.0</td>\n",
       "      <td>54740.0</td>\n",
       "      <td>1,163</td>\n",
       "      <td>60.4</td>\n",
       "      <td>NaN</td>\n",
       "      <td>NaN</td>\n",
       "      <td>All</td>\n",
       "    </tr>\n",
       "    <tr>\n",
       "      <td>1</td>\n",
       "      <td>USA</td>\n",
       "      <td>2356715</td>\n",
       "      <td>58</td>\n",
       "      <td>122248</td>\n",
       "      <td>1</td>\n",
       "      <td>980367.0</td>\n",
       "      <td>1254100.0</td>\n",
       "      <td>16477.0</td>\n",
       "      <td>7,121</td>\n",
       "      <td>369</td>\n",
       "      <td>28,492,770</td>\n",
       "      <td>86,093</td>\n",
       "      <td>North America</td>\n",
       "    </tr>\n",
       "    <tr>\n",
       "      <td>2</td>\n",
       "      <td>Brazil</td>\n",
       "      <td>1086990</td>\n",
       "      <td>NaN</td>\n",
       "      <td>50659</td>\n",
       "      <td>NaN</td>\n",
       "      <td>579226.0</td>\n",
       "      <td>457105.0</td>\n",
       "      <td>8318.0</td>\n",
       "      <td>5,115</td>\n",
       "      <td>238</td>\n",
       "      <td>2,430,347</td>\n",
       "      <td>11,436</td>\n",
       "      <td>South America</td>\n",
       "    </tr>\n",
       "    <tr>\n",
       "      <td>3</td>\n",
       "      <td>Russia</td>\n",
       "      <td>592280</td>\n",
       "      <td>7,600</td>\n",
       "      <td>8206</td>\n",
       "      <td>95</td>\n",
       "      <td>344416.0</td>\n",
       "      <td>239658.0</td>\n",
       "      <td>2300.0</td>\n",
       "      <td>4,059</td>\n",
       "      <td>56</td>\n",
       "      <td>17,200,000</td>\n",
       "      <td>117,862</td>\n",
       "      <td>Europe</td>\n",
       "    </tr>\n",
       "    <tr>\n",
       "      <td>4</td>\n",
       "      <td>India</td>\n",
       "      <td>426910</td>\n",
       "      <td>NaN</td>\n",
       "      <td>13703</td>\n",
       "      <td>NaN</td>\n",
       "      <td>237252.0</td>\n",
       "      <td>175955.0</td>\n",
       "      <td>8944.0</td>\n",
       "      <td>309</td>\n",
       "      <td>10</td>\n",
       "      <td>6,950,493</td>\n",
       "      <td>5,038</td>\n",
       "      <td>Asia</td>\n",
       "    </tr>\n",
       "    <tr>\n",
       "      <td>...</td>\n",
       "      <td>...</td>\n",
       "      <td>...</td>\n",
       "      <td>...</td>\n",
       "      <td>...</td>\n",
       "      <td>...</td>\n",
       "      <td>...</td>\n",
       "      <td>...</td>\n",
       "      <td>...</td>\n",
       "      <td>...</td>\n",
       "      <td>...</td>\n",
       "      <td>...</td>\n",
       "      <td>...</td>\n",
       "      <td>...</td>\n",
       "    </tr>\n",
       "    <tr>\n",
       "      <td>211</td>\n",
       "      <td>Caribbean Netherlands</td>\n",
       "      <td>7</td>\n",
       "      <td>NaN</td>\n",
       "      <td></td>\n",
       "      <td>NaN</td>\n",
       "      <td>7.0</td>\n",
       "      <td>0.0</td>\n",
       "      <td>NaN</td>\n",
       "      <td>267</td>\n",
       "      <td>NaN</td>\n",
       "      <td>424</td>\n",
       "      <td>16,173</td>\n",
       "      <td>North America</td>\n",
       "    </tr>\n",
       "    <tr>\n",
       "      <td>212</td>\n",
       "      <td>St. Barth</td>\n",
       "      <td>6</td>\n",
       "      <td>NaN</td>\n",
       "      <td></td>\n",
       "      <td>NaN</td>\n",
       "      <td>6.0</td>\n",
       "      <td>0.0</td>\n",
       "      <td>NaN</td>\n",
       "      <td>608</td>\n",
       "      <td>NaN</td>\n",
       "      <td>152</td>\n",
       "      <td>15,391</td>\n",
       "      <td>North America</td>\n",
       "    </tr>\n",
       "    <tr>\n",
       "      <td>213</td>\n",
       "      <td>Anguilla</td>\n",
       "      <td>3</td>\n",
       "      <td>NaN</td>\n",
       "      <td></td>\n",
       "      <td>NaN</td>\n",
       "      <td>3.0</td>\n",
       "      <td>0.0</td>\n",
       "      <td>NaN</td>\n",
       "      <td>200</td>\n",
       "      <td>NaN</td>\n",
       "      <td>93</td>\n",
       "      <td>6,200</td>\n",
       "      <td>North America</td>\n",
       "    </tr>\n",
       "    <tr>\n",
       "      <td>214</td>\n",
       "      <td>Saint Pierre Miquelon</td>\n",
       "      <td>1</td>\n",
       "      <td>NaN</td>\n",
       "      <td></td>\n",
       "      <td>NaN</td>\n",
       "      <td>1.0</td>\n",
       "      <td>0.0</td>\n",
       "      <td>NaN</td>\n",
       "      <td>173</td>\n",
       "      <td>NaN</td>\n",
       "      <td>NaN</td>\n",
       "      <td>NaN</td>\n",
       "      <td>North America</td>\n",
       "    </tr>\n",
       "    <tr>\n",
       "      <td>215</td>\n",
       "      <td>China</td>\n",
       "      <td>83396</td>\n",
       "      <td>18</td>\n",
       "      <td>4634</td>\n",
       "      <td>NaN</td>\n",
       "      <td>78413.0</td>\n",
       "      <td>349.0</td>\n",
       "      <td>10.0</td>\n",
       "      <td>58</td>\n",
       "      <td>3</td>\n",
       "      <td>NaN</td>\n",
       "      <td>NaN</td>\n",
       "      <td>Asia</td>\n",
       "    </tr>\n",
       "  </tbody>\n",
       "</table>\n",
       "<p>216 rows × 13 columns</p>\n",
       "</div>"
      ],
      "text/plain": [
       "                   Country  Total_Cases New_Cases Total_Deaths New_Deaths  \\\n",
       "0                    World      9067824    28,887       471040      1,436   \n",
       "1                      USA      2356715        58      122248           1   \n",
       "2                   Brazil      1086990       NaN       50659         NaN   \n",
       "3                   Russia       592280     7,600        8206          95   \n",
       "4                    India       426910       NaN       13703         NaN   \n",
       "..                     ...          ...       ...          ...        ...   \n",
       "211  Caribbean Netherlands            7       NaN                     NaN   \n",
       "212              St. Barth            6       NaN                     NaN   \n",
       "213               Anguilla            3       NaN                     NaN   \n",
       "214  Saint Pierre Miquelon            1       NaN                     NaN   \n",
       "215                  China        83396        18        4634         NaN   \n",
       "\n",
       "     Total_Recovered  Active_Cases  Serious/Critical Tot_Cases Deaths  \\\n",
       "0          4850718.0     3746066.0           54740.0     1,163   60.4   \n",
       "1           980367.0     1254100.0           16477.0     7,121    369   \n",
       "2           579226.0      457105.0            8318.0     5,115    238   \n",
       "3           344416.0      239658.0            2300.0     4,059     56   \n",
       "4           237252.0      175955.0            8944.0       309     10   \n",
       "..               ...           ...               ...       ...    ...   \n",
       "211              7.0           0.0               NaN       267    NaN   \n",
       "212              6.0           0.0               NaN       608    NaN   \n",
       "213              3.0           0.0               NaN       200    NaN   \n",
       "214              1.0           0.0               NaN       173    NaN   \n",
       "215          78413.0         349.0              10.0        58      3   \n",
       "\n",
       "    Total_Tests    Tests     Continents  \n",
       "0           NaN      NaN            All  \n",
       "1    28,492,770   86,093  North America  \n",
       "2     2,430,347   11,436  South America  \n",
       "3    17,200,000  117,862         Europe  \n",
       "4     6,950,493    5,038           Asia  \n",
       "..          ...      ...            ...  \n",
       "211         424   16,173  North America  \n",
       "212         152   15,391  North America  \n",
       "213          93    6,200  North America  \n",
       "214         NaN      NaN  North America  \n",
       "215         NaN      NaN           Asia  \n",
       "\n",
       "[216 rows x 13 columns]"
      ]
     },
     "execution_count": 2,
     "metadata": {},
     "output_type": "execute_result"
    }
   ],
   "source": [
    "corona= pd.read_csv(\"response.csv\")\n",
    "corona"
   ]
  },
  {
   "cell_type": "code",
   "execution_count": 3,
   "metadata": {},
   "outputs": [
    {
     "name": "stdout",
     "output_type": "stream",
     "text": [
      "<class 'pandas.core.frame.DataFrame'>\n",
      "RangeIndex: 216 entries, 0 to 215\n",
      "Data columns (total 13 columns):\n",
      "Country             216 non-null object\n",
      "Total_Cases         216 non-null int64\n",
      "New_Cases           47 non-null object\n",
      "Total_Deaths        216 non-null object\n",
      "New_Deaths          22 non-null object\n",
      "Total_Recovered     211 non-null float64\n",
      "Active_Cases        212 non-null float64\n",
      "Serious/Critical    132 non-null float64\n",
      "Tot_Cases           214 non-null object\n",
      "Deaths              184 non-null object\n",
      "Total_Tests         191 non-null object\n",
      "Tests               191 non-null object\n",
      "Continents          214 non-null object\n",
      "dtypes: float64(3), int64(1), object(9)\n",
      "memory usage: 14.4+ KB\n"
     ]
    }
   ],
   "source": [
    "corona.info()"
   ]
  },
  {
   "cell_type": "code",
   "execution_count": 4,
   "metadata": {},
   "outputs": [
    {
     "data": {
      "text/plain": [
       "Country               0\n",
       "Total_Cases           0\n",
       "New_Cases           169\n",
       "Total_Deaths          0\n",
       "New_Deaths          194\n",
       "Total_Recovered       5\n",
       "Active_Cases          4\n",
       "Serious/Critical     84\n",
       "Tot_Cases             2\n",
       "Deaths               32\n",
       "Total_Tests          25\n",
       "Tests                25\n",
       "Continents            2\n",
       "dtype: int64"
      ]
     },
     "execution_count": 4,
     "metadata": {},
     "output_type": "execute_result"
    }
   ],
   "source": [
    "corona.isnull().sum()"
   ]
  },
  {
   "cell_type": "code",
   "execution_count": 5,
   "metadata": {},
   "outputs": [
    {
     "data": {
      "text/plain": [
       "Country              object\n",
       "Total_Cases           int64\n",
       "New_Cases            object\n",
       "Total_Deaths         object\n",
       "New_Deaths           object\n",
       "Total_Recovered     float64\n",
       "Active_Cases        float64\n",
       "Serious/Critical    float64\n",
       "Tot_Cases            object\n",
       "Deaths               object\n",
       "Total_Tests          object\n",
       "Tests                object\n",
       "Continents           object\n",
       "dtype: object"
      ]
     },
     "execution_count": 5,
     "metadata": {},
     "output_type": "execute_result"
    }
   ],
   "source": [
    "corona.dtypes"
   ]
  },
  {
   "cell_type": "code",
   "execution_count": 6,
   "metadata": {},
   "outputs": [
    {
     "data": {
      "text/html": [
       "<div>\n",
       "<style scoped>\n",
       "    .dataframe tbody tr th:only-of-type {\n",
       "        vertical-align: middle;\n",
       "    }\n",
       "\n",
       "    .dataframe tbody tr th {\n",
       "        vertical-align: top;\n",
       "    }\n",
       "\n",
       "    .dataframe thead th {\n",
       "        text-align: right;\n",
       "    }\n",
       "</style>\n",
       "<table border=\"1\" class=\"dataframe\">\n",
       "  <thead>\n",
       "    <tr style=\"text-align: right;\">\n",
       "      <th></th>\n",
       "      <th>Country</th>\n",
       "      <th>Total_Cases</th>\n",
       "      <th>New_Cases</th>\n",
       "      <th>Total_Deaths</th>\n",
       "      <th>New_Deaths</th>\n",
       "      <th>Total_Recovered</th>\n",
       "      <th>Active_Cases</th>\n",
       "      <th>Serious/Critical</th>\n",
       "      <th>Tot_Cases</th>\n",
       "      <th>Deaths</th>\n",
       "      <th>Total_Tests</th>\n",
       "      <th>Tests</th>\n",
       "      <th>Continents</th>\n",
       "    </tr>\n",
       "  </thead>\n",
       "  <tbody>\n",
       "    <tr>\n",
       "      <td>0</td>\n",
       "      <td>World</td>\n",
       "      <td>9067824</td>\n",
       "      <td>28,887</td>\n",
       "      <td>471040</td>\n",
       "      <td>1,436</td>\n",
       "      <td>4850718.0</td>\n",
       "      <td>3746066.0</td>\n",
       "      <td>54740.0</td>\n",
       "      <td>1,163</td>\n",
       "      <td>60.4</td>\n",
       "      <td>NaN</td>\n",
       "      <td>NaN</td>\n",
       "      <td>All</td>\n",
       "    </tr>\n",
       "    <tr>\n",
       "      <td>1</td>\n",
       "      <td>USA</td>\n",
       "      <td>2356715</td>\n",
       "      <td>58</td>\n",
       "      <td>122248</td>\n",
       "      <td>1</td>\n",
       "      <td>980367.0</td>\n",
       "      <td>1254100.0</td>\n",
       "      <td>16477.0</td>\n",
       "      <td>7,121</td>\n",
       "      <td>369</td>\n",
       "      <td>28,492,770</td>\n",
       "      <td>86,093</td>\n",
       "      <td>North America</td>\n",
       "    </tr>\n",
       "    <tr>\n",
       "      <td>2</td>\n",
       "      <td>Brazil</td>\n",
       "      <td>1086990</td>\n",
       "      <td>NaN</td>\n",
       "      <td>50659</td>\n",
       "      <td>NaN</td>\n",
       "      <td>579226.0</td>\n",
       "      <td>457105.0</td>\n",
       "      <td>8318.0</td>\n",
       "      <td>5,115</td>\n",
       "      <td>238</td>\n",
       "      <td>2,430,347</td>\n",
       "      <td>11,436</td>\n",
       "      <td>South America</td>\n",
       "    </tr>\n",
       "    <tr>\n",
       "      <td>3</td>\n",
       "      <td>Russia</td>\n",
       "      <td>592280</td>\n",
       "      <td>7,600</td>\n",
       "      <td>8206</td>\n",
       "      <td>95</td>\n",
       "      <td>344416.0</td>\n",
       "      <td>239658.0</td>\n",
       "      <td>2300.0</td>\n",
       "      <td>4,059</td>\n",
       "      <td>56</td>\n",
       "      <td>17,200,000</td>\n",
       "      <td>117,862</td>\n",
       "      <td>Europe</td>\n",
       "    </tr>\n",
       "    <tr>\n",
       "      <td>4</td>\n",
       "      <td>India</td>\n",
       "      <td>426910</td>\n",
       "      <td>NaN</td>\n",
       "      <td>13703</td>\n",
       "      <td>NaN</td>\n",
       "      <td>237252.0</td>\n",
       "      <td>175955.0</td>\n",
       "      <td>8944.0</td>\n",
       "      <td>309</td>\n",
       "      <td>10</td>\n",
       "      <td>6,950,493</td>\n",
       "      <td>5,038</td>\n",
       "      <td>Asia</td>\n",
       "    </tr>\n",
       "    <tr>\n",
       "      <td>...</td>\n",
       "      <td>...</td>\n",
       "      <td>...</td>\n",
       "      <td>...</td>\n",
       "      <td>...</td>\n",
       "      <td>...</td>\n",
       "      <td>...</td>\n",
       "      <td>...</td>\n",
       "      <td>...</td>\n",
       "      <td>...</td>\n",
       "      <td>...</td>\n",
       "      <td>...</td>\n",
       "      <td>...</td>\n",
       "      <td>...</td>\n",
       "    </tr>\n",
       "    <tr>\n",
       "      <td>211</td>\n",
       "      <td>Caribbean Netherlands</td>\n",
       "      <td>7</td>\n",
       "      <td>NaN</td>\n",
       "      <td></td>\n",
       "      <td>NaN</td>\n",
       "      <td>7.0</td>\n",
       "      <td>0.0</td>\n",
       "      <td>NaN</td>\n",
       "      <td>267</td>\n",
       "      <td>NaN</td>\n",
       "      <td>424</td>\n",
       "      <td>16,173</td>\n",
       "      <td>North America</td>\n",
       "    </tr>\n",
       "    <tr>\n",
       "      <td>212</td>\n",
       "      <td>St. Barth</td>\n",
       "      <td>6</td>\n",
       "      <td>NaN</td>\n",
       "      <td></td>\n",
       "      <td>NaN</td>\n",
       "      <td>6.0</td>\n",
       "      <td>0.0</td>\n",
       "      <td>NaN</td>\n",
       "      <td>608</td>\n",
       "      <td>NaN</td>\n",
       "      <td>152</td>\n",
       "      <td>15,391</td>\n",
       "      <td>North America</td>\n",
       "    </tr>\n",
       "    <tr>\n",
       "      <td>213</td>\n",
       "      <td>Anguilla</td>\n",
       "      <td>3</td>\n",
       "      <td>NaN</td>\n",
       "      <td></td>\n",
       "      <td>NaN</td>\n",
       "      <td>3.0</td>\n",
       "      <td>0.0</td>\n",
       "      <td>NaN</td>\n",
       "      <td>200</td>\n",
       "      <td>NaN</td>\n",
       "      <td>93</td>\n",
       "      <td>6,200</td>\n",
       "      <td>North America</td>\n",
       "    </tr>\n",
       "    <tr>\n",
       "      <td>214</td>\n",
       "      <td>Saint Pierre Miquelon</td>\n",
       "      <td>1</td>\n",
       "      <td>NaN</td>\n",
       "      <td></td>\n",
       "      <td>NaN</td>\n",
       "      <td>1.0</td>\n",
       "      <td>0.0</td>\n",
       "      <td>NaN</td>\n",
       "      <td>173</td>\n",
       "      <td>NaN</td>\n",
       "      <td>NaN</td>\n",
       "      <td>NaN</td>\n",
       "      <td>North America</td>\n",
       "    </tr>\n",
       "    <tr>\n",
       "      <td>215</td>\n",
       "      <td>China</td>\n",
       "      <td>83396</td>\n",
       "      <td>18</td>\n",
       "      <td>4634</td>\n",
       "      <td>NaN</td>\n",
       "      <td>78413.0</td>\n",
       "      <td>349.0</td>\n",
       "      <td>10.0</td>\n",
       "      <td>58</td>\n",
       "      <td>3</td>\n",
       "      <td>NaN</td>\n",
       "      <td>NaN</td>\n",
       "      <td>Asia</td>\n",
       "    </tr>\n",
       "  </tbody>\n",
       "</table>\n",
       "<p>216 rows × 13 columns</p>\n",
       "</div>"
      ],
      "text/plain": [
       "                   Country  Total_Cases New_Cases Total_Deaths New_Deaths  \\\n",
       "0                    World      9067824    28,887       471040      1,436   \n",
       "1                      USA      2356715        58      122248           1   \n",
       "2                   Brazil      1086990       NaN       50659         NaN   \n",
       "3                   Russia       592280     7,600        8206          95   \n",
       "4                    India       426910       NaN       13703         NaN   \n",
       "..                     ...          ...       ...          ...        ...   \n",
       "211  Caribbean Netherlands            7       NaN                     NaN   \n",
       "212              St. Barth            6       NaN                     NaN   \n",
       "213               Anguilla            3       NaN                     NaN   \n",
       "214  Saint Pierre Miquelon            1       NaN                     NaN   \n",
       "215                  China        83396        18        4634         NaN   \n",
       "\n",
       "     Total_Recovered  Active_Cases  Serious/Critical Tot_Cases Deaths  \\\n",
       "0          4850718.0     3746066.0           54740.0     1,163   60.4   \n",
       "1           980367.0     1254100.0           16477.0     7,121    369   \n",
       "2           579226.0      457105.0            8318.0     5,115    238   \n",
       "3           344416.0      239658.0            2300.0     4,059     56   \n",
       "4           237252.0      175955.0            8944.0       309     10   \n",
       "..               ...           ...               ...       ...    ...   \n",
       "211              7.0           0.0               NaN       267    NaN   \n",
       "212              6.0           0.0               NaN       608    NaN   \n",
       "213              3.0           0.0               NaN       200    NaN   \n",
       "214              1.0           0.0               NaN       173    NaN   \n",
       "215          78413.0         349.0              10.0        58      3   \n",
       "\n",
       "    Total_Tests    Tests     Continents  \n",
       "0           NaN      NaN            All  \n",
       "1    28,492,770   86,093  North America  \n",
       "2     2,430,347   11,436  South America  \n",
       "3    17,200,000  117,862         Europe  \n",
       "4     6,950,493    5,038           Asia  \n",
       "..          ...      ...            ...  \n",
       "211         424   16,173  North America  \n",
       "212         152   15,391  North America  \n",
       "213          93    6,200  North America  \n",
       "214         NaN      NaN  North America  \n",
       "215         NaN      NaN           Asia  \n",
       "\n",
       "[216 rows x 13 columns]"
      ]
     },
     "execution_count": 6,
     "metadata": {},
     "output_type": "execute_result"
    }
   ],
   "source": [
    "corona.drop_duplicates(subset=None, keep='first', inplace=False)"
   ]
  },
  {
   "cell_type": "code",
   "execution_count": 7,
   "metadata": {},
   "outputs": [
    {
     "data": {
      "text/plain": [
       "0"
      ]
     },
     "execution_count": 7,
     "metadata": {},
     "output_type": "execute_result"
    }
   ],
   "source": [
    "corona[\"Country\"].isnull().sum()"
   ]
  },
  {
   "cell_type": "code",
   "execution_count": 8,
   "metadata": {},
   "outputs": [
    {
     "data": {
      "text/plain": [
       "Guatemala                1\n",
       "Cameroon                 1\n",
       "Cabo Verde               1\n",
       "Caribbean Netherlands    1\n",
       "San Marino               1\n",
       "                        ..\n",
       "Georgia                  1\n",
       "Luxembourg               1\n",
       "Ivory Coast              1\n",
       "Belize                   1\n",
       "Germany                  1\n",
       "Name: Country, Length: 216, dtype: int64"
      ]
     },
     "execution_count": 8,
     "metadata": {},
     "output_type": "execute_result"
    }
   ],
   "source": [
    "corona[\"Country\"].value_counts()"
   ]
  },
  {
   "cell_type": "code",
   "execution_count": 9,
   "metadata": {},
   "outputs": [
    {
     "data": {
      "text/plain": [
       "169"
      ]
     },
     "execution_count": 9,
     "metadata": {},
     "output_type": "execute_result"
    }
   ],
   "source": [
    "corona[\"New_Cases\"].isnull().sum()"
   ]
  },
  {
   "cell_type": "markdown",
   "metadata": {},
   "source": [
    "# Changing the data types from object to float"
   ]
  },
  {
   "cell_type": "code",
   "execution_count": 10,
   "metadata": {},
   "outputs": [],
   "source": [
    "corona[\"New_Cases\"]= corona[\"New_Cases\"].str.split(',').str.join('').astype(float)\n",
    "corona[\"New_Deaths\"]= corona[\"New_Deaths\"].str.split(',').str.join('').astype(float)\n",
    "corona[\"Tot_Cases\"]= corona[\"Tot_Cases\"].str.split(',').str.join('').astype(float)\n",
    "corona[\"Deaths\"]= corona[\"Deaths\"].str.split(',').str.join('').astype(float)\n",
    "corona[\"Tests\"]= corona[\"Tests\"].str.split(',').str.join('').astype(float)\n",
    "corona[\"Total_Tests\"]= corona[\"Total_Tests\"].str.split(',').str.join('').astype(float)\n",
    "#corona[\"Total_Deaths\"]= corona[\"Total_Deaths\"].int.split(',')..join('').astype(float)"
   ]
  },
  {
   "cell_type": "code",
   "execution_count": 11,
   "metadata": {},
   "outputs": [],
   "source": [
    "corona[\"Total_Deaths\"]= corona[\"Total_Deaths\"].replace(r'^\\s*$', np.nan, regex=True)"
   ]
  },
  {
   "cell_type": "code",
   "execution_count": 12,
   "metadata": {},
   "outputs": [
    {
     "data": {
      "text/plain": [
       "dtype('O')"
      ]
     },
     "execution_count": 12,
     "metadata": {},
     "output_type": "execute_result"
    }
   ],
   "source": [
    "corona[\"Total_Deaths\"].dtypes"
   ]
  },
  {
   "cell_type": "code",
   "execution_count": 13,
   "metadata": {},
   "outputs": [
    {
     "data": {
      "text/plain": [
       "0       471040\n",
       "1      122248 \n",
       "2       50659 \n",
       "3        8206 \n",
       "4       13703 \n",
       "        ...   \n",
       "211        NaN\n",
       "212        NaN\n",
       "213        NaN\n",
       "214        NaN\n",
       "215      4634 \n",
       "Name: Total_Deaths, Length: 216, dtype: object"
      ]
     },
     "execution_count": 13,
     "metadata": {},
     "output_type": "execute_result"
    }
   ],
   "source": [
    "corona[\"Total_Deaths\"]"
   ]
  },
  {
   "cell_type": "code",
   "execution_count": 14,
   "metadata": {},
   "outputs": [],
   "source": [
    "corona[\"Total_Deaths\"]= corona[\"Total_Deaths\"].astype(float)"
   ]
  },
  {
   "cell_type": "code",
   "execution_count": 15,
   "metadata": {},
   "outputs": [
    {
     "data": {
      "text/html": [
       "<div>\n",
       "<style scoped>\n",
       "    .dataframe tbody tr th:only-of-type {\n",
       "        vertical-align: middle;\n",
       "    }\n",
       "\n",
       "    .dataframe tbody tr th {\n",
       "        vertical-align: top;\n",
       "    }\n",
       "\n",
       "    .dataframe thead th {\n",
       "        text-align: right;\n",
       "    }\n",
       "</style>\n",
       "<table border=\"1\" class=\"dataframe\">\n",
       "  <thead>\n",
       "    <tr style=\"text-align: right;\">\n",
       "      <th></th>\n",
       "      <th>Country</th>\n",
       "      <th>Total_Cases</th>\n",
       "      <th>New_Cases</th>\n",
       "      <th>Total_Deaths</th>\n",
       "      <th>New_Deaths</th>\n",
       "      <th>Total_Recovered</th>\n",
       "      <th>Active_Cases</th>\n",
       "      <th>Serious/Critical</th>\n",
       "      <th>Tot_Cases</th>\n",
       "      <th>Deaths</th>\n",
       "      <th>Total_Tests</th>\n",
       "      <th>Tests</th>\n",
       "      <th>Continents</th>\n",
       "    </tr>\n",
       "  </thead>\n",
       "  <tbody>\n",
       "    <tr>\n",
       "      <td>0</td>\n",
       "      <td>World</td>\n",
       "      <td>9067824</td>\n",
       "      <td>28887.0</td>\n",
       "      <td>471040.0</td>\n",
       "      <td>1436.0</td>\n",
       "      <td>4850718.0</td>\n",
       "      <td>3746066.0</td>\n",
       "      <td>54740.0</td>\n",
       "      <td>1163.0</td>\n",
       "      <td>60.4</td>\n",
       "      <td>NaN</td>\n",
       "      <td>NaN</td>\n",
       "      <td>All</td>\n",
       "    </tr>\n",
       "    <tr>\n",
       "      <td>1</td>\n",
       "      <td>USA</td>\n",
       "      <td>2356715</td>\n",
       "      <td>58.0</td>\n",
       "      <td>122248.0</td>\n",
       "      <td>1.0</td>\n",
       "      <td>980367.0</td>\n",
       "      <td>1254100.0</td>\n",
       "      <td>16477.0</td>\n",
       "      <td>7121.0</td>\n",
       "      <td>369.0</td>\n",
       "      <td>28492770.0</td>\n",
       "      <td>86093.0</td>\n",
       "      <td>North America</td>\n",
       "    </tr>\n",
       "    <tr>\n",
       "      <td>2</td>\n",
       "      <td>Brazil</td>\n",
       "      <td>1086990</td>\n",
       "      <td>NaN</td>\n",
       "      <td>50659.0</td>\n",
       "      <td>NaN</td>\n",
       "      <td>579226.0</td>\n",
       "      <td>457105.0</td>\n",
       "      <td>8318.0</td>\n",
       "      <td>5115.0</td>\n",
       "      <td>238.0</td>\n",
       "      <td>2430347.0</td>\n",
       "      <td>11436.0</td>\n",
       "      <td>South America</td>\n",
       "    </tr>\n",
       "    <tr>\n",
       "      <td>3</td>\n",
       "      <td>Russia</td>\n",
       "      <td>592280</td>\n",
       "      <td>7600.0</td>\n",
       "      <td>8206.0</td>\n",
       "      <td>95.0</td>\n",
       "      <td>344416.0</td>\n",
       "      <td>239658.0</td>\n",
       "      <td>2300.0</td>\n",
       "      <td>4059.0</td>\n",
       "      <td>56.0</td>\n",
       "      <td>17200000.0</td>\n",
       "      <td>117862.0</td>\n",
       "      <td>Europe</td>\n",
       "    </tr>\n",
       "    <tr>\n",
       "      <td>4</td>\n",
       "      <td>India</td>\n",
       "      <td>426910</td>\n",
       "      <td>NaN</td>\n",
       "      <td>13703.0</td>\n",
       "      <td>NaN</td>\n",
       "      <td>237252.0</td>\n",
       "      <td>175955.0</td>\n",
       "      <td>8944.0</td>\n",
       "      <td>309.0</td>\n",
       "      <td>10.0</td>\n",
       "      <td>6950493.0</td>\n",
       "      <td>5038.0</td>\n",
       "      <td>Asia</td>\n",
       "    </tr>\n",
       "    <tr>\n",
       "      <td>...</td>\n",
       "      <td>...</td>\n",
       "      <td>...</td>\n",
       "      <td>...</td>\n",
       "      <td>...</td>\n",
       "      <td>...</td>\n",
       "      <td>...</td>\n",
       "      <td>...</td>\n",
       "      <td>...</td>\n",
       "      <td>...</td>\n",
       "      <td>...</td>\n",
       "      <td>...</td>\n",
       "      <td>...</td>\n",
       "      <td>...</td>\n",
       "    </tr>\n",
       "    <tr>\n",
       "      <td>211</td>\n",
       "      <td>Caribbean Netherlands</td>\n",
       "      <td>7</td>\n",
       "      <td>NaN</td>\n",
       "      <td>NaN</td>\n",
       "      <td>NaN</td>\n",
       "      <td>7.0</td>\n",
       "      <td>0.0</td>\n",
       "      <td>NaN</td>\n",
       "      <td>267.0</td>\n",
       "      <td>NaN</td>\n",
       "      <td>424.0</td>\n",
       "      <td>16173.0</td>\n",
       "      <td>North America</td>\n",
       "    </tr>\n",
       "    <tr>\n",
       "      <td>212</td>\n",
       "      <td>St. Barth</td>\n",
       "      <td>6</td>\n",
       "      <td>NaN</td>\n",
       "      <td>NaN</td>\n",
       "      <td>NaN</td>\n",
       "      <td>6.0</td>\n",
       "      <td>0.0</td>\n",
       "      <td>NaN</td>\n",
       "      <td>608.0</td>\n",
       "      <td>NaN</td>\n",
       "      <td>152.0</td>\n",
       "      <td>15391.0</td>\n",
       "      <td>North America</td>\n",
       "    </tr>\n",
       "    <tr>\n",
       "      <td>213</td>\n",
       "      <td>Anguilla</td>\n",
       "      <td>3</td>\n",
       "      <td>NaN</td>\n",
       "      <td>NaN</td>\n",
       "      <td>NaN</td>\n",
       "      <td>3.0</td>\n",
       "      <td>0.0</td>\n",
       "      <td>NaN</td>\n",
       "      <td>200.0</td>\n",
       "      <td>NaN</td>\n",
       "      <td>93.0</td>\n",
       "      <td>6200.0</td>\n",
       "      <td>North America</td>\n",
       "    </tr>\n",
       "    <tr>\n",
       "      <td>214</td>\n",
       "      <td>Saint Pierre Miquelon</td>\n",
       "      <td>1</td>\n",
       "      <td>NaN</td>\n",
       "      <td>NaN</td>\n",
       "      <td>NaN</td>\n",
       "      <td>1.0</td>\n",
       "      <td>0.0</td>\n",
       "      <td>NaN</td>\n",
       "      <td>173.0</td>\n",
       "      <td>NaN</td>\n",
       "      <td>NaN</td>\n",
       "      <td>NaN</td>\n",
       "      <td>North America</td>\n",
       "    </tr>\n",
       "    <tr>\n",
       "      <td>215</td>\n",
       "      <td>China</td>\n",
       "      <td>83396</td>\n",
       "      <td>18.0</td>\n",
       "      <td>4634.0</td>\n",
       "      <td>NaN</td>\n",
       "      <td>78413.0</td>\n",
       "      <td>349.0</td>\n",
       "      <td>10.0</td>\n",
       "      <td>58.0</td>\n",
       "      <td>3.0</td>\n",
       "      <td>NaN</td>\n",
       "      <td>NaN</td>\n",
       "      <td>Asia</td>\n",
       "    </tr>\n",
       "  </tbody>\n",
       "</table>\n",
       "<p>216 rows × 13 columns</p>\n",
       "</div>"
      ],
      "text/plain": [
       "                   Country  Total_Cases  New_Cases  Total_Deaths  New_Deaths  \\\n",
       "0                    World      9067824    28887.0      471040.0      1436.0   \n",
       "1                      USA      2356715       58.0      122248.0         1.0   \n",
       "2                   Brazil      1086990        NaN       50659.0         NaN   \n",
       "3                   Russia       592280     7600.0        8206.0        95.0   \n",
       "4                    India       426910        NaN       13703.0         NaN   \n",
       "..                     ...          ...        ...           ...         ...   \n",
       "211  Caribbean Netherlands            7        NaN           NaN         NaN   \n",
       "212              St. Barth            6        NaN           NaN         NaN   \n",
       "213               Anguilla            3        NaN           NaN         NaN   \n",
       "214  Saint Pierre Miquelon            1        NaN           NaN         NaN   \n",
       "215                  China        83396       18.0        4634.0         NaN   \n",
       "\n",
       "     Total_Recovered  Active_Cases  Serious/Critical  Tot_Cases  Deaths  \\\n",
       "0          4850718.0     3746066.0           54740.0     1163.0    60.4   \n",
       "1           980367.0     1254100.0           16477.0     7121.0   369.0   \n",
       "2           579226.0      457105.0            8318.0     5115.0   238.0   \n",
       "3           344416.0      239658.0            2300.0     4059.0    56.0   \n",
       "4           237252.0      175955.0            8944.0      309.0    10.0   \n",
       "..               ...           ...               ...        ...     ...   \n",
       "211              7.0           0.0               NaN      267.0     NaN   \n",
       "212              6.0           0.0               NaN      608.0     NaN   \n",
       "213              3.0           0.0               NaN      200.0     NaN   \n",
       "214              1.0           0.0               NaN      173.0     NaN   \n",
       "215          78413.0         349.0              10.0       58.0     3.0   \n",
       "\n",
       "     Total_Tests     Tests     Continents  \n",
       "0            NaN       NaN            All  \n",
       "1     28492770.0   86093.0  North America  \n",
       "2      2430347.0   11436.0  South America  \n",
       "3     17200000.0  117862.0         Europe  \n",
       "4      6950493.0    5038.0           Asia  \n",
       "..           ...       ...            ...  \n",
       "211        424.0   16173.0  North America  \n",
       "212        152.0   15391.0  North America  \n",
       "213         93.0    6200.0  North America  \n",
       "214          NaN       NaN  North America  \n",
       "215          NaN       NaN           Asia  \n",
       "\n",
       "[216 rows x 13 columns]"
      ]
     },
     "execution_count": 15,
     "metadata": {},
     "output_type": "execute_result"
    }
   ],
   "source": [
    "corona"
   ]
  },
  {
   "cell_type": "code",
   "execution_count": 16,
   "metadata": {},
   "outputs": [
    {
     "data": {
      "text/plain": [
       "dtype('float64')"
      ]
     },
     "execution_count": 16,
     "metadata": {},
     "output_type": "execute_result"
    }
   ],
   "source": [
    "corona.New_Cases.dtypes"
   ]
  },
  {
   "cell_type": "code",
   "execution_count": 17,
   "metadata": {},
   "outputs": [
    {
     "data": {
      "text/html": [
       "<div>\n",
       "<style scoped>\n",
       "    .dataframe tbody tr th:only-of-type {\n",
       "        vertical-align: middle;\n",
       "    }\n",
       "\n",
       "    .dataframe tbody tr th {\n",
       "        vertical-align: top;\n",
       "    }\n",
       "\n",
       "    .dataframe thead th {\n",
       "        text-align: right;\n",
       "    }\n",
       "</style>\n",
       "<table border=\"1\" class=\"dataframe\">\n",
       "  <thead>\n",
       "    <tr style=\"text-align: right;\">\n",
       "      <th></th>\n",
       "      <th>Total_Cases</th>\n",
       "      <th>New_Cases</th>\n",
       "      <th>Total_Deaths</th>\n",
       "      <th>New_Deaths</th>\n",
       "      <th>Total_Recovered</th>\n",
       "      <th>Active_Cases</th>\n",
       "      <th>Serious/Critical</th>\n",
       "      <th>Tot_Cases</th>\n",
       "      <th>Deaths</th>\n",
       "      <th>Total_Tests</th>\n",
       "      <th>Tests</th>\n",
       "    </tr>\n",
       "  </thead>\n",
       "  <tbody>\n",
       "    <tr>\n",
       "      <td>count</td>\n",
       "      <td>2.160000e+02</td>\n",
       "      <td>47.000000</td>\n",
       "      <td>186.000000</td>\n",
       "      <td>22.000000</td>\n",
       "      <td>2.110000e+02</td>\n",
       "      <td>2.120000e+02</td>\n",
       "      <td>132.000000</td>\n",
       "      <td>214.000000</td>\n",
       "      <td>184.000000</td>\n",
       "      <td>1.910000e+02</td>\n",
       "      <td>191.000000</td>\n",
       "    </tr>\n",
       "    <tr>\n",
       "      <td>mean</td>\n",
       "      <td>8.396133e+04</td>\n",
       "      <td>1229.234043</td>\n",
       "      <td>5064.946237</td>\n",
       "      <td>130.545455</td>\n",
       "      <td>4.500278e+04</td>\n",
       "      <td>3.338094e+04</td>\n",
       "      <td>829.393939</td>\n",
       "      <td>1816.004206</td>\n",
       "      <td>72.729239</td>\n",
       "      <td>6.767870e+05</td>\n",
       "      <td>41695.968586</td>\n",
       "    </tr>\n",
       "    <tr>\n",
       "      <td>std</td>\n",
       "      <td>6.421554e+05</td>\n",
       "      <td>4392.949822</td>\n",
       "      <td>36067.359797</td>\n",
       "      <td>365.076864</td>\n",
       "      <td>3.438094e+05</td>\n",
       "      <td>2.729285e+05</td>\n",
       "      <td>5061.856394</td>\n",
       "      <td>3465.825637</td>\n",
       "      <td>158.682792</td>\n",
       "      <td>2.588316e+06</td>\n",
       "      <td>67444.668589</td>\n",
       "    </tr>\n",
       "    <tr>\n",
       "      <td>min</td>\n",
       "      <td>1.000000e+00</td>\n",
       "      <td>1.000000</td>\n",
       "      <td>1.000000</td>\n",
       "      <td>1.000000</td>\n",
       "      <td>1.000000e+00</td>\n",
       "      <td>0.000000e+00</td>\n",
       "      <td>1.000000</td>\n",
       "      <td>0.900000</td>\n",
       "      <td>0.080000</td>\n",
       "      <td>6.100000e+01</td>\n",
       "      <td>4.000000</td>\n",
       "    </tr>\n",
       "    <tr>\n",
       "      <td>25%</td>\n",
       "      <td>2.302500e+02</td>\n",
       "      <td>7.500000</td>\n",
       "      <td>11.250000</td>\n",
       "      <td>3.500000</td>\n",
       "      <td>1.405000e+02</td>\n",
       "      <td>3.500000e+01</td>\n",
       "      <td>2.000000</td>\n",
       "      <td>143.500000</td>\n",
       "      <td>4.000000</td>\n",
       "      <td>9.796000e+03</td>\n",
       "      <td>4452.000000</td>\n",
       "    </tr>\n",
       "    <tr>\n",
       "      <td>50%</td>\n",
       "      <td>1.823000e+03</td>\n",
       "      <td>82.000000</td>\n",
       "      <td>63.500000</td>\n",
       "      <td>10.000000</td>\n",
       "      <td>9.300000e+02</td>\n",
       "      <td>4.365000e+02</td>\n",
       "      <td>10.000000</td>\n",
       "      <td>456.500000</td>\n",
       "      <td>15.500000</td>\n",
       "      <td>6.785500e+04</td>\n",
       "      <td>16299.000000</td>\n",
       "    </tr>\n",
       "    <tr>\n",
       "      <td>75%</td>\n",
       "      <td>1.498525e+04</td>\n",
       "      <td>355.000000</td>\n",
       "      <td>520.250000</td>\n",
       "      <td>34.500000</td>\n",
       "      <td>8.248000e+03</td>\n",
       "      <td>4.461000e+03</td>\n",
       "      <td>102.750000</td>\n",
       "      <td>2148.000000</td>\n",
       "      <td>52.750000</td>\n",
       "      <td>4.148855e+05</td>\n",
       "      <td>45559.500000</td>\n",
       "    </tr>\n",
       "    <tr>\n",
       "      <td>max</td>\n",
       "      <td>9.067824e+06</td>\n",
       "      <td>28887.000000</td>\n",
       "      <td>471040.000000</td>\n",
       "      <td>1436.000000</td>\n",
       "      <td>4.850718e+06</td>\n",
       "      <td>3.746066e+06</td>\n",
       "      <td>54740.000000</td>\n",
       "      <td>31116.000000</td>\n",
       "      <td>1238.000000</td>\n",
       "      <td>2.849277e+07</td>\n",
       "      <td>412897.000000</td>\n",
       "    </tr>\n",
       "  </tbody>\n",
       "</table>\n",
       "</div>"
      ],
      "text/plain": [
       "        Total_Cases     New_Cases   Total_Deaths   New_Deaths  \\\n",
       "count  2.160000e+02     47.000000     186.000000    22.000000   \n",
       "mean   8.396133e+04   1229.234043    5064.946237   130.545455   \n",
       "std    6.421554e+05   4392.949822   36067.359797   365.076864   \n",
       "min    1.000000e+00      1.000000       1.000000     1.000000   \n",
       "25%    2.302500e+02      7.500000      11.250000     3.500000   \n",
       "50%    1.823000e+03     82.000000      63.500000    10.000000   \n",
       "75%    1.498525e+04    355.000000     520.250000    34.500000   \n",
       "max    9.067824e+06  28887.000000  471040.000000  1436.000000   \n",
       "\n",
       "       Total_Recovered  Active_Cases  Serious/Critical     Tot_Cases  \\\n",
       "count     2.110000e+02  2.120000e+02        132.000000    214.000000   \n",
       "mean      4.500278e+04  3.338094e+04        829.393939   1816.004206   \n",
       "std       3.438094e+05  2.729285e+05       5061.856394   3465.825637   \n",
       "min       1.000000e+00  0.000000e+00          1.000000      0.900000   \n",
       "25%       1.405000e+02  3.500000e+01          2.000000    143.500000   \n",
       "50%       9.300000e+02  4.365000e+02         10.000000    456.500000   \n",
       "75%       8.248000e+03  4.461000e+03        102.750000   2148.000000   \n",
       "max       4.850718e+06  3.746066e+06      54740.000000  31116.000000   \n",
       "\n",
       "            Deaths   Total_Tests          Tests  \n",
       "count   184.000000  1.910000e+02     191.000000  \n",
       "mean     72.729239  6.767870e+05   41695.968586  \n",
       "std     158.682792  2.588316e+06   67444.668589  \n",
       "min       0.080000  6.100000e+01       4.000000  \n",
       "25%       4.000000  9.796000e+03    4452.000000  \n",
       "50%      15.500000  6.785500e+04   16299.000000  \n",
       "75%      52.750000  4.148855e+05   45559.500000  \n",
       "max    1238.000000  2.849277e+07  412897.000000  "
      ]
     },
     "execution_count": 17,
     "metadata": {},
     "output_type": "execute_result"
    }
   ],
   "source": [
    "corona.describe()"
   ]
  },
  {
   "cell_type": "markdown",
   "metadata": {},
   "source": [
    "# filling missing values"
   ]
  },
  {
   "cell_type": "code",
   "execution_count": 18,
   "metadata": {},
   "outputs": [],
   "source": [
    "columns= [\"New_Cases\",\"Total_Deaths\",\"New_Deaths\",\"Tot_Cases\",\"Tests\",\"Deaths\",\"Total_Tests\"]\n",
    "for x in columns:\n",
    "    corona[x]= corona[x].fillna(0)"
   ]
  },
  {
   "cell_type": "code",
   "execution_count": 19,
   "metadata": {},
   "outputs": [],
   "source": [
    "corona[\"Continents\"]= corona[\"Continents\"].fillna(\"None\")"
   ]
  },
  {
   "cell_type": "code",
   "execution_count": 20,
   "metadata": {},
   "outputs": [],
   "source": [
    "col= [\"Total_Recovered\",\"Active_Cases\",\"Serious/Critical\"]\n",
    "for y in col:\n",
    "    corona[y]= corona[y].fillna(0)"
   ]
  },
  {
   "cell_type": "code",
   "execution_count": 21,
   "metadata": {},
   "outputs": [
    {
     "data": {
      "text/plain": [
       "Country             0\n",
       "Total_Cases         0\n",
       "New_Cases           0\n",
       "Total_Deaths        0\n",
       "New_Deaths          0\n",
       "Total_Recovered     0\n",
       "Active_Cases        0\n",
       "Serious/Critical    0\n",
       "Tot_Cases           0\n",
       "Deaths              0\n",
       "Total_Tests         0\n",
       "Tests               0\n",
       "Continents          0\n",
       "dtype: int64"
      ]
     },
     "execution_count": 21,
     "metadata": {},
     "output_type": "execute_result"
    }
   ],
   "source": [
    "corona.isnull().sum()"
   ]
  },
  {
   "cell_type": "code",
   "execution_count": 22,
   "metadata": {},
   "outputs": [
    {
     "data": {
      "text/plain": [
       "0                All\n",
       "1      North America\n",
       "2      South America\n",
       "3             Europe\n",
       "4               Asia\n",
       "           ...      \n",
       "211    North America\n",
       "212    North America\n",
       "213    North America\n",
       "214    North America\n",
       "215             Asia\n",
       "Name: Continents, Length: 216, dtype: object"
      ]
     },
     "execution_count": 22,
     "metadata": {},
     "output_type": "execute_result"
    }
   ],
   "source": [
    "corona[\"Continents\"]"
   ]
  },
  {
   "cell_type": "markdown",
   "metadata": {},
   "source": [
    "# from float to integer"
   ]
  },
  {
   "cell_type": "code",
   "execution_count": 23,
   "metadata": {},
   "outputs": [],
   "source": [
    "corona[\"New_Cases\"]= corona[\"New_Cases\"].astype(int)\n",
    "corona[\"New_Deaths\"]= corona[\"New_Deaths\"].astype(int)\n",
    "corona[\"Tot_Cases\"]= corona[\"Tot_Cases\"].astype(int)\n",
    "corona[\"Deaths\"]= corona[\"Deaths\"].astype(int)\n",
    "corona[\"Total_Deaths\"]= corona[\"Total_Deaths\"].astype(int)\n",
    "corona[\"Tests\"]= corona[\"Tests\"].astype(int)"
   ]
  },
  {
   "cell_type": "markdown",
   "metadata": {},
   "source": [
    "# Data Visualization"
   ]
  },
  {
   "cell_type": "code",
   "execution_count": 24,
   "metadata": {},
   "outputs": [
    {
     "data": {
      "image/png": "[encoded data removed]",
      "text/plain": [
       "<Figure size 432x288 with 1 Axes>"
      ]
     },
     "metadata": {
      "needs_background": "light"
     },
     "output_type": "display_data"
    }
   ],
   "source": [
    "sns.countplot(y= corona[\"Continents\"])\n",
    "plt.show()"
   ]
  },
  {
   "cell_type": "code",
   "execution_count": 25,
   "metadata": {},
   "outputs": [
    {
     "data": {
      "text/plain": [
       "Africa               57\n",
       "Asia                 49\n",
       "Europe               48\n",
       "North America        39\n",
       "South America        14\n",
       "Australia/Oceania     6\n",
       "None                  2\n",
       "All                   1\n",
       "Name: Continents, dtype: int64"
      ]
     },
     "execution_count": 25,
     "metadata": {},
     "output_type": "execute_result"
    }
   ],
   "source": [
    "corona.Continents.value_counts()"
   ]
  },
  {
   "cell_type": "code",
   "execution_count": 26,
   "metadata": {},
   "outputs": [
    {
     "name": "stdout",
     "output_type": "stream",
     "text": [
      "Ghana                    1\n",
      "Botswana                 1\n",
      "Malawi                   1\n",
      "Nigeria                  1\n",
      "Cabo Verde               1\n",
      "Comoros                  1\n",
      "Algeria                  1\n",
      "Benin                    1\n",
      "Mayotte                  1\n",
      "Gabon                    1\n",
      "Angola                   1\n",
      "Burundi                  1\n",
      "Sudan                    1\n",
      "CAR                      1\n",
      "Chad                     1\n",
      "Eritrea                  1\n",
      "Burkina Faso             1\n",
      "Cameroon                 1\n",
      "Ethiopia                 1\n",
      "Togo                     1\n",
      "Madagascar               1\n",
      "Sao Tome and Principe    1\n",
      "Western Sahara           1\n",
      "Gambia                   1\n",
      "Zambia                   1\n",
      "Tanzania                 1\n",
      "Namibia                  1\n",
      "Morocco                  1\n",
      "Sierra Leone             1\n",
      "Equatorial Guinea        1\n",
      "Somalia                  1\n",
      "Seychelles               1\n",
      "South Sudan              1\n",
      "Kenya                    1\n",
      "Senegal                  1\n",
      "Rwanda                   1\n",
      "Mauritius                1\n",
      "Congo                    1\n",
      "Egypt                    1\n",
      "Mozambique               1\n",
      "DRC                      1\n",
      "Zimbabwe                 1\n",
      "Mauritania               1\n",
      "Niger                    1\n",
      "Guinea-Bissau            1\n",
      "Mali                     1\n",
      "Libya                    1\n",
      "South Africa             1\n",
      "Guinea                   1\n",
      "Liberia                  1\n",
      "Djibouti                 1\n",
      "Lesotho                  1\n",
      "Eswatini                 1\n",
      "Uganda                   1\n",
      "Tunisia                  1\n",
      "Ivory Coast              1\n",
      "Réunion                  1\n",
      "Name: Country, dtype: int64\n"
     ]
    }
   ],
   "source": [
    "Count= corona[corona[\"Continents\"] == \"Africa\"][\"Country\"]\n",
    "print(Count.value_counts())"
   ]
  },
  {
   "cell_type": "code",
   "execution_count": 27,
   "metadata": {},
   "outputs": [
    {
     "name": "stdout",
     "output_type": "stream",
     "text": [
      "Paraguay            1\n",
      "Peru                1\n",
      "Uruguay             1\n",
      "French Guiana       1\n",
      "Guyana              1\n",
      "Argentina           1\n",
      "Venezuela           1\n",
      "Chile               1\n",
      "Colombia            1\n",
      "Bolivia             1\n",
      "Falkland Islands    1\n",
      "Suriname            1\n",
      "Ecuador             1\n",
      "Brazil              1\n",
      "Name: Country, dtype: int64\n"
     ]
    }
   ],
   "source": [
    "South= corona[corona[\"Continents\"] == \"South America\"][\"Country\"]\n",
    "print(South.value_counts())"
   ]
  },
  {
   "cell_type": "code",
   "execution_count": 28,
   "metadata": {},
   "outputs": [
    {
     "name": "stdout",
     "output_type": "stream",
     "text": [
      "Guatemala                 1\n",
      "Canada                    1\n",
      "St. Vincent Grenadines    1\n",
      "Grenada                   1\n",
      "Saint Martin              1\n",
      "Montserrat                1\n",
      "St. Barth                 1\n",
      "Cayman Islands            1\n",
      "Turks and Caicos          1\n",
      "Sint Maarten              1\n",
      "Greenland                 1\n",
      "Caribbean Netherlands     1\n",
      "Mexico                    1\n",
      "Haiti                     1\n",
      "Saint Pierre Miquelon     1\n",
      "Martinique                1\n",
      "Honduras                  1\n",
      "British Virgin Islands    1\n",
      "Anguilla                  1\n",
      "Trinidad and Tobago       1\n",
      "Cuba                      1\n",
      "Barbados                  1\n",
      "Curaçao                   1\n",
      "Saint Lucia               1\n",
      "El Salvador               1\n",
      "Dominican Republic        1\n",
      "USA                       1\n",
      "Costa Rica                1\n",
      "Bahamas                   1\n",
      "Panama                    1\n",
      "Saint Kitts and Nevis     1\n",
      "Jamaica                   1\n",
      "Dominica                  1\n",
      "Antigua and Barbuda       1\n",
      "Guadeloupe                1\n",
      "Aruba                     1\n",
      "Bermuda                   1\n",
      "Nicaragua                 1\n",
      "Belize                    1\n",
      "Name: Country, dtype: int64\n"
     ]
    }
   ],
   "source": [
    "North= corona[corona[\"Continents\"] == \"North America\"][\"Country\"]\n",
    "print(North.value_counts())"
   ]
  },
  {
   "cell_type": "code",
   "execution_count": 29,
   "metadata": {},
   "outputs": [
    {
     "name": "stdout",
     "output_type": "stream",
     "text": [
      "Latvia                    1\n",
      "Liechtenstein             1\n",
      "Slovakia                  1\n",
      "Croatia                   1\n",
      "Vatican City              1\n",
      "Spain                     1\n",
      "Italy                     1\n",
      "Slovenia                  1\n",
      "Channel Islands           1\n",
      "Sweden                    1\n",
      "Romania                   1\n",
      "Finland                   1\n",
      "Bulgaria                  1\n",
      "Czechia                   1\n",
      "Faeroe Islands            1\n",
      "Belarus                   1\n",
      "Iceland                   1\n",
      "Austria                   1\n",
      "Belgium                   1\n",
      "Monaco                    1\n",
      "Portugal                  1\n",
      "Ukraine                   1\n",
      "Malta                     1\n",
      "Hungary                   1\n",
      "Bosnia and Herzegovina    1\n",
      "Denmark                   1\n",
      "Poland                    1\n",
      "Russia                    1\n",
      "North Macedonia           1\n",
      "Serbia                    1\n",
      "Andorra                   1\n",
      "Isle of Man               1\n",
      "Luxembourg                1\n",
      "Greece                    1\n",
      "Moldova                   1\n",
      "UK                        1\n",
      "Switzerland               1\n",
      "Netherlands               1\n",
      "Lithuania                 1\n",
      "Ireland                   1\n",
      "Estonia                   1\n",
      "Montenegro                1\n",
      "Albania                   1\n",
      "France                    1\n",
      "San Marino                1\n",
      "Norway                    1\n",
      "Gibraltar                 1\n",
      "Germany                   1\n",
      "Name: Country, dtype: int64\n"
     ]
    }
   ],
   "source": [
    "Euro= corona[corona[\"Continents\"] == \"Europe\"][\"Country\"]\n",
    "print (Euro.value_counts())"
   ]
  },
  {
   "cell_type": "code",
   "execution_count": 30,
   "metadata": {},
   "outputs": [
    {
     "name": "stdout",
     "output_type": "stream",
     "text": [
      "Sri Lanka       1\n",
      "Singapore       1\n",
      "Palestine       1\n",
      "Vietnam         1\n",
      "Lebanon         1\n",
      "Taiwan          1\n",
      "Philippines     1\n",
      "Bangladesh      1\n",
      "Turkey          1\n",
      "Armenia         1\n",
      "Mongolia        1\n",
      "Yemen           1\n",
      "India           1\n",
      "Saudi Arabia    1\n",
      "Malaysia        1\n",
      "Jordan          1\n",
      "Bhutan          1\n",
      "S. Korea        1\n",
      "Indonesia       1\n",
      "Nepal           1\n",
      "Qatar           1\n",
      "Macao           1\n",
      "Iraq            1\n",
      "Uzbekistan      1\n",
      "Thailand        1\n",
      "Pakistan        1\n",
      "Iran            1\n",
      "Kazakhstan      1\n",
      "Azerbaijan      1\n",
      "Hong Kong       1\n",
      "Japan           1\n",
      "Israel          1\n",
      "Afghanistan     1\n",
      "Cyprus          1\n",
      "Kyrgyzstan      1\n",
      "Brunei          1\n",
      "Maldives        1\n",
      "Timor-Leste     1\n",
      "UAE             1\n",
      "Oman            1\n",
      "Cambodia        1\n",
      "Bahrain         1\n",
      "Laos            1\n",
      "Kuwait          1\n",
      "China           1\n",
      "Tajikistan      1\n",
      "Georgia         1\n",
      "Syria           1\n",
      "Myanmar         1\n",
      "Name: Country, dtype: int64\n"
     ]
    }
   ],
   "source": [
    "As= corona[corona[\"Continents\"] == \"Asia\"][\"Country\"]\n",
    "print(As.value_counts())"
   ]
  },
  {
   "cell_type": "code",
   "execution_count": 31,
   "metadata": {},
   "outputs": [
    {
     "name": "stdout",
     "output_type": "stream",
     "text": [
      "Papua New Guinea    1\n",
      "New Caledonia       1\n",
      "Fiji                1\n",
      "Australia           1\n",
      "New Zealand         1\n",
      "French Polynesia    1\n",
      "Name: Country, dtype: int64\n"
     ]
    }
   ],
   "source": [
    "ocean= corona[corona[\"Continents\"] == \"Australia/Oceania\"][\"Country\"]\n",
    "print(ocean.value_counts())"
   ]
  },
  {
   "cell_type": "code",
   "execution_count": 32,
   "metadata": {},
   "outputs": [
    {
     "data": {
      "image/png": "[encoded data removed]",
      "text/plain": [
       "<Figure size 720x720 with 1 Axes>"
      ]
     },
     "metadata": {
      "needs_background": "light"
     },
     "output_type": "display_data"
    }
   ],
   "source": [
    "plt.figure(figsize=(10,10))\n",
    "continents = corona[corona[\"Continents\"]!=\"All\"][\"Continents\"]\n",
    "g= sns.barplot(continents, corona[\"Total_Cases\"])\n",
    "#g.set_xticks(np.arange(0,1000000, step= 100000))\n",
    "plt.show()\n",
    "#South America has the highest number of Total Cases                   "
   ]
  },
  {
   "cell_type": "code",
   "execution_count": 33,
   "metadata": {},
   "outputs": [
    {
     "data": {
      "image/png": "[encoded data removed]",
      "text/plain": [
       "<Figure size 720x720 with 1 Axes>"
      ]
     },
     "metadata": {
      "needs_background": "light"
     },
     "output_type": "display_data"
    }
   ],
   "source": [
    "plt.figure(figsize=(10,10))\n",
    "sns.barplot(continents, corona[\"Total_Recovered\"])\n",
    "plt.show()\n",
    "#South America has the highest recovery rate"
   ]
  },
  {
   "cell_type": "code",
   "execution_count": 34,
   "metadata": {},
   "outputs": [
    {
     "data": {
      "text/plain": [
       "Country              object\n",
       "Total_Cases           int64\n",
       "New_Cases             int32\n",
       "Total_Deaths          int32\n",
       "New_Deaths            int32\n",
       "Total_Recovered     float64\n",
       "Active_Cases        float64\n",
       "Serious/Critical    float64\n",
       "Tot_Cases             int32\n",
       "Deaths                int32\n",
       "Total_Tests         float64\n",
       "Tests                 int32\n",
       "Continents           object\n",
       "dtype: object"
      ]
     },
     "execution_count": 34,
     "metadata": {},
     "output_type": "execute_result"
    }
   ],
   "source": [
    "corona.dtypes"
   ]
  },
  {
   "cell_type": "code",
   "execution_count": 35,
   "metadata": {},
   "outputs": [
    {
     "data": {
      "text/plain": [
       "Country              object\n",
       "Total_Cases           int64\n",
       "New_Cases             int32\n",
       "Total_Deaths          int32\n",
       "New_Deaths            int32\n",
       "Total_Recovered     float64\n",
       "Active_Cases        float64\n",
       "Serious/Critical    float64\n",
       "Tot_Cases             int32\n",
       "Deaths                int32\n",
       "Total_Tests         float64\n",
       "Tests                 int32\n",
       "Continents           object\n",
       "dtype: object"
      ]
     },
     "execution_count": 35,
     "metadata": {},
     "output_type": "execute_result"
    }
   ],
   "source": [
    "corona.dtypes"
   ]
  },
  {
   "cell_type": "code",
   "execution_count": 36,
   "metadata": {},
   "outputs": [
    {
     "data": {
      "image/png": "[encoded data removed]",
      "text/plain": [
       "<Figure size 720x720 with 1 Axes>"
      ]
     },
     "metadata": {
      "needs_background": "light"
     },
     "output_type": "display_data"
    }
   ],
   "source": [
    "plt.figure(figsize=(10,10))\n",
    "sns.barplot(continents, corona[\"New_Cases\"])\n",
    "plt.show()\n",
    "#Asia has the same number of New Cases followed by the Europe Continent"
   ]
  },
  {
   "cell_type": "code",
   "execution_count": 37,
   "metadata": {},
   "outputs": [
    {
     "data": {
      "image/png": "[encoded data removed]",
      "text/plain": [
       "<Figure size 720x720 with 1 Axes>"
      ]
     },
     "metadata": {
      "needs_background": "light"
     },
     "output_type": "display_data"
    }
   ],
   "source": [
    "plt.figure(figsize=(10,10))\n",
    "sns.barplot(continents, corona[\"Total_Deaths\"])\n",
    "plt.show()\n",
    "#South America has the highest Total Deaths, followed by North America"
   ]
  },
  {
   "cell_type": "code",
   "execution_count": 38,
   "metadata": {},
   "outputs": [
    {
     "data": {
      "image/png": "[encoded data removed]",
      "text/plain": [
       "<Figure size 720x720 with 1 Axes>"
      ]
     },
     "metadata": {
      "needs_background": "light"
     },
     "output_type": "display_data"
    }
   ],
   "source": [
    "plt.figure(figsize=(10,10))\n",
    "sns.barplot(continents, corona[\"New_Deaths\"])\n",
    "plt.show()"
   ]
  },
  {
   "cell_type": "code",
   "execution_count": 39,
   "metadata": {},
   "outputs": [
    {
     "data": {
      "image/png": "[encoded data removed]",
      "text/plain": [
       "<Figure size 720x720 with 1 Axes>"
      ]
     },
     "metadata": {
      "needs_background": "light"
     },
     "output_type": "display_data"
    }
   ],
   "source": [
    "plt.figure(figsize=(10,10))\n",
    "sns.barplot(continents, corona[\"Active_Cases\"])\n",
    "plt.show()"
   ]
  },
  {
   "cell_type": "code",
   "execution_count": 40,
   "metadata": {},
   "outputs": [
    {
     "data": {
      "image/png": "[encoded data removed]",
      "text/plain": [
       "<Figure size 720x720 with 1 Axes>"
      ]
     },
     "metadata": {
      "needs_background": "light"
     },
     "output_type": "display_data"
    }
   ],
   "source": [
    "plt.figure(figsize=(10,10))\n",
    "sns.barplot(continents, corona[\"Serious/Critical\"])\n",
    "plt.show()\n",
    "#South America has the highest number of Serious and Critical Cases, followed by South America"
   ]
  },
  {
   "cell_type": "code",
   "execution_count": 41,
   "metadata": {},
   "outputs": [
    {
     "data": {
      "image/png": "[encoded data removed]",
      "text/plain": [
       "<Figure size 720x720 with 1 Axes>"
      ]
     },
     "metadata": {
      "needs_background": "light"
     },
     "output_type": "display_data"
    }
   ],
   "source": [
    "plt.figure(figsize=(10,10))\n",
    "sns.barplot(continents, corona[\"Tot_Cases\"])\n",
    "plt.show()\n",
    "#Europe has the highest number of Tested and Confirmwd Cases"
   ]
  },
  {
   "cell_type": "code",
   "execution_count": 42,
   "metadata": {},
   "outputs": [
    {
     "data": {
      "image/png": "[encoded data removed]",
      "text/plain": [
       "<Figure size 720x720 with 1 Axes>"
      ]
     },
     "metadata": {
      "needs_background": "light"
     },
     "output_type": "display_data"
    }
   ],
   "source": [
    "plt.figure(figsize=(10,10))\n",
    "sns.barplot(continents, corona[\"Deaths\"])\n",
    "plt.show()\n",
    "#Due to thw tested cases, it has highest number of death."
   ]
  },
  {
   "cell_type": "code",
   "execution_count": 43,
   "metadata": {},
   "outputs": [
    {
     "data": {
      "image/png": "[encoded data removed]",
      "text/plain": [
       "<Figure size 720x720 with 1 Axes>"
      ]
     },
     "metadata": {
      "needs_background": "light"
     },
     "output_type": "display_data"
    }
   ],
   "source": [
    "plt.figure(figsize=(10,10))\n",
    "sns.barplot(continents, corona[\"Tests\"])\n",
    "plt.show()\n",
    "#Europe engaged in a lot of Testing exercises due to their availability of medical equipment"
   ]
  },
  {
   "cell_type": "code",
   "execution_count": 44,
   "metadata": {},
   "outputs": [
    {
     "data": {
      "text/html": [
       "<div>\n",
       "<style scoped>\n",
       "    .dataframe tbody tr th:only-of-type {\n",
       "        vertical-align: middle;\n",
       "    }\n",
       "\n",
       "    .dataframe tbody tr th {\n",
       "        vertical-align: top;\n",
       "    }\n",
       "\n",
       "    .dataframe thead th {\n",
       "        text-align: right;\n",
       "    }\n",
       "</style>\n",
       "<table border=\"1\" class=\"dataframe\">\n",
       "  <thead>\n",
       "    <tr style=\"text-align: right;\">\n",
       "      <th></th>\n",
       "      <th>Country</th>\n",
       "      <th>Total_Cases</th>\n",
       "      <th>New_Cases</th>\n",
       "      <th>Total_Deaths</th>\n",
       "      <th>New_Deaths</th>\n",
       "      <th>Total_Recovered</th>\n",
       "      <th>Active_Cases</th>\n",
       "      <th>Serious/Critical</th>\n",
       "      <th>Tot_Cases</th>\n",
       "      <th>Deaths</th>\n",
       "      <th>Total_Tests</th>\n",
       "      <th>Tests</th>\n",
       "      <th>Continents</th>\n",
       "      <th>Cases</th>\n",
       "      <th>NewActive</th>\n",
       "      <th>Totest</th>\n",
       "    </tr>\n",
       "  </thead>\n",
       "  <tbody>\n",
       "    <tr>\n",
       "      <td>0</td>\n",
       "      <td>World</td>\n",
       "      <td>9067824</td>\n",
       "      <td>28887</td>\n",
       "      <td>471040</td>\n",
       "      <td>1436</td>\n",
       "      <td>4850718.0</td>\n",
       "      <td>3746066.0</td>\n",
       "      <td>54740.0</td>\n",
       "      <td>1163</td>\n",
       "      <td>60</td>\n",
       "      <td>0.0</td>\n",
       "      <td>0</td>\n",
       "      <td>All</td>\n",
       "      <td>9068987</td>\n",
       "      <td>3774953.0</td>\n",
       "      <td>0.0</td>\n",
       "    </tr>\n",
       "    <tr>\n",
       "      <td>1</td>\n",
       "      <td>USA</td>\n",
       "      <td>2356715</td>\n",
       "      <td>58</td>\n",
       "      <td>122248</td>\n",
       "      <td>1</td>\n",
       "      <td>980367.0</td>\n",
       "      <td>1254100.0</td>\n",
       "      <td>16477.0</td>\n",
       "      <td>7121</td>\n",
       "      <td>369</td>\n",
       "      <td>28492770.0</td>\n",
       "      <td>86093</td>\n",
       "      <td>North America</td>\n",
       "      <td>2363836</td>\n",
       "      <td>1254158.0</td>\n",
       "      <td>28578863.0</td>\n",
       "    </tr>\n",
       "    <tr>\n",
       "      <td>2</td>\n",
       "      <td>Brazil</td>\n",
       "      <td>1086990</td>\n",
       "      <td>0</td>\n",
       "      <td>50659</td>\n",
       "      <td>0</td>\n",
       "      <td>579226.0</td>\n",
       "      <td>457105.0</td>\n",
       "      <td>8318.0</td>\n",
       "      <td>5115</td>\n",
       "      <td>238</td>\n",
       "      <td>2430347.0</td>\n",
       "      <td>11436</td>\n",
       "      <td>South America</td>\n",
       "      <td>1092105</td>\n",
       "      <td>457105.0</td>\n",
       "      <td>2441783.0</td>\n",
       "    </tr>\n",
       "    <tr>\n",
       "      <td>3</td>\n",
       "      <td>Russia</td>\n",
       "      <td>592280</td>\n",
       "      <td>7600</td>\n",
       "      <td>8206</td>\n",
       "      <td>95</td>\n",
       "      <td>344416.0</td>\n",
       "      <td>239658.0</td>\n",
       "      <td>2300.0</td>\n",
       "      <td>4059</td>\n",
       "      <td>56</td>\n",
       "      <td>17200000.0</td>\n",
       "      <td>117862</td>\n",
       "      <td>Europe</td>\n",
       "      <td>596339</td>\n",
       "      <td>247258.0</td>\n",
       "      <td>17317862.0</td>\n",
       "    </tr>\n",
       "    <tr>\n",
       "      <td>4</td>\n",
       "      <td>India</td>\n",
       "      <td>426910</td>\n",
       "      <td>0</td>\n",
       "      <td>13703</td>\n",
       "      <td>0</td>\n",
       "      <td>237252.0</td>\n",
       "      <td>175955.0</td>\n",
       "      <td>8944.0</td>\n",
       "      <td>309</td>\n",
       "      <td>10</td>\n",
       "      <td>6950493.0</td>\n",
       "      <td>5038</td>\n",
       "      <td>Asia</td>\n",
       "      <td>427219</td>\n",
       "      <td>175955.0</td>\n",
       "      <td>6955531.0</td>\n",
       "    </tr>\n",
       "    <tr>\n",
       "      <td>...</td>\n",
       "      <td>...</td>\n",
       "      <td>...</td>\n",
       "      <td>...</td>\n",
       "      <td>...</td>\n",
       "      <td>...</td>\n",
       "      <td>...</td>\n",
       "      <td>...</td>\n",
       "      <td>...</td>\n",
       "      <td>...</td>\n",
       "      <td>...</td>\n",
       "      <td>...</td>\n",
       "      <td>...</td>\n",
       "      <td>...</td>\n",
       "      <td>...</td>\n",
       "      <td>...</td>\n",
       "      <td>...</td>\n",
       "    </tr>\n",
       "    <tr>\n",
       "      <td>211</td>\n",
       "      <td>Caribbean Netherlands</td>\n",
       "      <td>7</td>\n",
       "      <td>0</td>\n",
       "      <td>0</td>\n",
       "      <td>0</td>\n",
       "      <td>7.0</td>\n",
       "      <td>0.0</td>\n",
       "      <td>0.0</td>\n",
       "      <td>267</td>\n",
       "      <td>0</td>\n",
       "      <td>424.0</td>\n",
       "      <td>16173</td>\n",
       "      <td>North America</td>\n",
       "      <td>274</td>\n",
       "      <td>0.0</td>\n",
       "      <td>16597.0</td>\n",
       "    </tr>\n",
       "    <tr>\n",
       "      <td>212</td>\n",
       "      <td>St. Barth</td>\n",
       "      <td>6</td>\n",
       "      <td>0</td>\n",
       "      <td>0</td>\n",
       "      <td>0</td>\n",
       "      <td>6.0</td>\n",
       "      <td>0.0</td>\n",
       "      <td>0.0</td>\n",
       "      <td>608</td>\n",
       "      <td>0</td>\n",
       "      <td>152.0</td>\n",
       "      <td>15391</td>\n",
       "      <td>North America</td>\n",
       "      <td>614</td>\n",
       "      <td>0.0</td>\n",
       "      <td>15543.0</td>\n",
       "    </tr>\n",
       "    <tr>\n",
       "      <td>213</td>\n",
       "      <td>Anguilla</td>\n",
       "      <td>3</td>\n",
       "      <td>0</td>\n",
       "      <td>0</td>\n",
       "      <td>0</td>\n",
       "      <td>3.0</td>\n",
       "      <td>0.0</td>\n",
       "      <td>0.0</td>\n",
       "      <td>200</td>\n",
       "      <td>0</td>\n",
       "      <td>93.0</td>\n",
       "      <td>6200</td>\n",
       "      <td>North America</td>\n",
       "      <td>203</td>\n",
       "      <td>0.0</td>\n",
       "      <td>6293.0</td>\n",
       "    </tr>\n",
       "    <tr>\n",
       "      <td>214</td>\n",
       "      <td>Saint Pierre Miquelon</td>\n",
       "      <td>1</td>\n",
       "      <td>0</td>\n",
       "      <td>0</td>\n",
       "      <td>0</td>\n",
       "      <td>1.0</td>\n",
       "      <td>0.0</td>\n",
       "      <td>0.0</td>\n",
       "      <td>173</td>\n",
       "      <td>0</td>\n",
       "      <td>0.0</td>\n",
       "      <td>0</td>\n",
       "      <td>North America</td>\n",
       "      <td>174</td>\n",
       "      <td>0.0</td>\n",
       "      <td>0.0</td>\n",
       "    </tr>\n",
       "    <tr>\n",
       "      <td>215</td>\n",
       "      <td>China</td>\n",
       "      <td>83396</td>\n",
       "      <td>18</td>\n",
       "      <td>4634</td>\n",
       "      <td>0</td>\n",
       "      <td>78413.0</td>\n",
       "      <td>349.0</td>\n",
       "      <td>10.0</td>\n",
       "      <td>58</td>\n",
       "      <td>3</td>\n",
       "      <td>0.0</td>\n",
       "      <td>0</td>\n",
       "      <td>Asia</td>\n",
       "      <td>83454</td>\n",
       "      <td>367.0</td>\n",
       "      <td>0.0</td>\n",
       "    </tr>\n",
       "  </tbody>\n",
       "</table>\n",
       "<p>216 rows × 16 columns</p>\n",
       "</div>"
      ],
      "text/plain": [
       "                   Country  Total_Cases  New_Cases  Total_Deaths  New_Deaths  \\\n",
       "0                    World      9067824      28887        471040        1436   \n",
       "1                      USA      2356715         58        122248           1   \n",
       "2                   Brazil      1086990          0         50659           0   \n",
       "3                   Russia       592280       7600          8206          95   \n",
       "4                    India       426910          0         13703           0   \n",
       "..                     ...          ...        ...           ...         ...   \n",
       "211  Caribbean Netherlands            7          0             0           0   \n",
       "212              St. Barth            6          0             0           0   \n",
       "213               Anguilla            3          0             0           0   \n",
       "214  Saint Pierre Miquelon            1          0             0           0   \n",
       "215                  China        83396         18          4634           0   \n",
       "\n",
       "     Total_Recovered  Active_Cases  Serious/Critical  Tot_Cases  Deaths  \\\n",
       "0          4850718.0     3746066.0           54740.0       1163      60   \n",
       "1           980367.0     1254100.0           16477.0       7121     369   \n",
       "2           579226.0      457105.0            8318.0       5115     238   \n",
       "3           344416.0      239658.0            2300.0       4059      56   \n",
       "4           237252.0      175955.0            8944.0        309      10   \n",
       "..               ...           ...               ...        ...     ...   \n",
       "211              7.0           0.0               0.0        267       0   \n",
       "212              6.0           0.0               0.0        608       0   \n",
       "213              3.0           0.0               0.0        200       0   \n",
       "214              1.0           0.0               0.0        173       0   \n",
       "215          78413.0         349.0              10.0         58       3   \n",
       "\n",
       "     Total_Tests   Tests     Continents    Cases  NewActive      Totest  \n",
       "0            0.0       0            All  9068987  3774953.0         0.0  \n",
       "1     28492770.0   86093  North America  2363836  1254158.0  28578863.0  \n",
       "2      2430347.0   11436  South America  1092105   457105.0   2441783.0  \n",
       "3     17200000.0  117862         Europe   596339   247258.0  17317862.0  \n",
       "4      6950493.0    5038           Asia   427219   175955.0   6955531.0  \n",
       "..           ...     ...            ...      ...        ...         ...  \n",
       "211        424.0   16173  North America      274        0.0     16597.0  \n",
       "212        152.0   15391  North America      614        0.0     15543.0  \n",
       "213         93.0    6200  North America      203        0.0      6293.0  \n",
       "214          0.0       0  North America      174        0.0         0.0  \n",
       "215          0.0       0           Asia    83454      367.0         0.0  \n",
       "\n",
       "[216 rows x 16 columns]"
      ]
     },
     "execution_count": 44,
     "metadata": {},
     "output_type": "execute_result"
    }
   ],
   "source": [
    "corona[\"Cases\"]= corona[\"Total_Cases\"] + corona[\"Tot_Cases\"]\n",
    "corona[\"NewActive\"]= corona[\"New_Cases\"] + corona[\"Active_Cases\"]\n",
    "corona[\"Totest\"]= corona[\"Total_Tests\"] + corona[\"Tests\"]\n",
    "corona"
   ]
  },
  {
   "cell_type": "code",
   "execution_count": 45,
   "metadata": {},
   "outputs": [
    {
     "data": {
      "image/png": "[encoded data removed]",
      "text/plain": [
       "<Figure size 720x720 with 1 Axes>"
      ]
     },
     "metadata": {
      "needs_background": "light"
     },
     "output_type": "display_data"
    }
   ],
   "source": [
    "plt.figure(figsize=(10,10))\n",
    "sns.barplot(continents, corona[\"NewActive\"])\n",
    "plt.show()"
   ]
  },
  {
   "cell_type": "code",
   "execution_count": 46,
   "metadata": {},
   "outputs": [
    {
     "data": {
      "image/png": "[encoded data removed]",
      "text/plain": [
       "<Figure size 432x288 with 1 Axes>"
      ]
     },
     "metadata": {
      "needs_background": "light"
     },
     "output_type": "display_data"
    }
   ],
   "source": [
    "corona[\"Negative\"]= corona[\"Tests\"] - corona[\"New_Cases\"]\n",
    "sns.barplot(continents, corona[\"Negative\"])\n",
    "\n",
    "plt.show()"
   ]
  },
  {
   "cell_type": "code",
   "execution_count": 47,
   "metadata": {},
   "outputs": [
    {
     "data": {
      "text/plain": [
       "<Figure size 720x720 with 0 Axes>"
      ]
     },
     "execution_count": 47,
     "metadata": {},
     "output_type": "execute_result"
    },
    {
     "data": {
      "image/png": "[encoded data removed]",
      "text/plain": [
       "<Figure size 432x288 with 1 Axes>"
      ]
     },
     "metadata": {},
     "output_type": "display_data"
    },
    {
     "data": {
      "text/plain": [
       "<Figure size 720x720 with 0 Axes>"
      ]
     },
     "metadata": {},
     "output_type": "display_data"
    }
   ],
   "source": [
    "corona.Continents.value_counts().plot(kind= \"pie\")\n",
    "plt.figure(figsize= (10,10))"
   ]
  },
  {
   "cell_type": "code",
   "execution_count": null,
   "metadata": {},
   "outputs": [],
   "source": []
  }
 ],
 "metadata": {
  "kernelspec": {
   "display_name": "Python 3",
   "language": "python",
   "name": "python3"
  },
  "language_info": {
   "codemirror_mode": {
    "name": "ipython",
    "version": 3
   },
   "file_extension": ".py",
   "mimetype": "text/x-python",
   "name": "python",
   "nbconvert_exporter": "python",
   "pygments_lexer": "ipython3",
   "version": "3.7.2"
  }
 },
 "nbformat": 4,
 "nbformat_minor": 4
}
